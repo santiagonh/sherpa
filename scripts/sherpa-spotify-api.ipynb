{
 "cells": [
  {
   "cell_type": "markdown",
   "id": "1fcc6dc1",
   "metadata": {},
   "source": [
    "# Obteniendo datos de la API de Spotify"
   ]
  },
  {
   "cell_type": "code",
   "execution_count": 18,
   "id": "be257f65",
   "metadata": {},
   "outputs": [],
   "source": [
    "import base64\n",
    "import requests\n",
    "import pandas as pd\n",
    "import os\n",
    "import discogs_client\n",
    "import time"
   ]
  },
  {
   "cell_type": "markdown",
   "id": "2d2d67c1",
   "metadata": {},
   "source": [
    "## Autorización"
   ]
  },
  {
   "cell_type": "code",
   "execution_count": 2,
   "id": "71c36978",
   "metadata": {},
   "outputs": [],
   "source": [
    "client_id = os.environ['spotify_client_id']\n",
    "client_secret = os.environ['spotify_client_secret']"
   ]
  },
  {
   "cell_type": "code",
   "execution_count": 3,
   "id": "49d8f0ca",
   "metadata": {},
   "outputs": [],
   "source": [
    "# función de autenticación de spotify\n",
    "\n",
    "def spoty_aut (client_id, client_secret):\n",
    "    url = 'https://accounts.spotify.com/api/token'\n",
    "    credenciales = client_id + ':' + client_secret\n",
    "    authorization = \"Basic \" + base64.b64encode(credenciales.encode()).decode()\n",
    "    grant_type= 'client_credentials'\n",
    "    auth = requests.post(url, data={'grant_type':grant_type},\n",
    "              headers={'Authorization':authorization, 'Content-Type':'application/x-www-form-urlencoded'})\n",
    "    return auth.json()"
   ]
  },
  {
   "cell_type": "code",
   "execution_count": 4,
   "id": "6d32bef0",
   "metadata": {},
   "outputs": [],
   "source": [
    "auth=spoty_aut(client_id, client_secret)"
   ]
  },
  {
   "cell_type": "code",
   "execution_count": 5,
   "id": "8bf8b34a",
   "metadata": {},
   "outputs": [
    {
     "data": {
      "text/plain": [
       "{'access_token': 'BQAQvyj_nNa7XOTalYSTiEAcHaQw1WrzdWC_KE9gM3sge-vggqtaLeDgwMq9u35WJ2tsQFmQOsqwIUGoM7I',\n",
       " 'token_type': 'Bearer',\n",
       " 'expires_in': 3600}"
      ]
     },
     "execution_count": 5,
     "metadata": {},
     "output_type": "execute_result"
    }
   ],
   "source": [
    "auth"
   ]
  },
  {
   "cell_type": "code",
   "execution_count": 6,
   "id": "ea9c5691",
   "metadata": {},
   "outputs": [],
   "source": [
    "# autorización de la API de discogs\n",
    "d = discogs_client.Client('ExampleApplication/0.1', user_token=\"FegwZkxqEcDNITLmmVYWuQNQZAMdnpBWeVTWZhts\")"
   ]
  },
  {
   "cell_type": "markdown",
   "id": "3aabb115",
   "metadata": {},
   "source": [
    "## Obteniendo playlist"
   ]
  },
  {
   "cell_type": "code",
   "execution_count": 7,
   "id": "1d0c01a4",
   "metadata": {},
   "outputs": [],
   "source": [
    "    base = \"https://api.spotify.com/v1/\"\n",
    "    playlist = requests.get(base+f\"playlists/6doANzWu81vKWBsIiMLrHj/tracks\",\n",
    "                      headers = {'Authorization':f'''Bearer {auth['access_token']}''', 'Content-Type': 'application/json'})\n",
    "    "
   ]
  },
  {
   "cell_type": "code",
   "execution_count": 8,
   "id": "232d7ca9",
   "metadata": {},
   "outputs": [
    {
     "data": {
      "text/plain": [
       "'Computer Controlled Acoustic Instruments pt2 EP'"
      ]
     },
     "execution_count": 8,
     "metadata": {},
     "output_type": "execute_result"
    }
   ],
   "source": [
    "playlist.json()['items'][0]['track']['album']['name']"
   ]
  },
  {
   "cell_type": "code",
   "execution_count": 9,
   "id": "72783394",
   "metadata": {},
   "outputs": [],
   "source": [
    "#función que crea df con variables necesarias para sherpa a partir de playlist_id\n",
    "\n",
    "def df_sherpa(playlist_id):\n",
    "    base = \"https://api.spotify.com/v1/\"\n",
    "    playlist = requests.get(base+f\"playlists/{playlist_id}/tracks\",\n",
    "                      headers = {'Authorization':f'''Bearer {auth['access_token']}''', 'Content-Type': 'application/json'})\n",
    "    \n",
    "    n_canciones=len(playlist.json()['items'])\n",
    "    \n",
    "    lista_df_tracks=[]\n",
    "    \n",
    "    for i in range(0,n_canciones):\n",
    "        \n",
    "        #obteniendo autor, nombre de canción y sus IDs de las canciones en la playlist\n",
    "        artist_track=playlist.json()['items'][i]\n",
    "        \n",
    "        artist_id= artist_track['track']['artists'][0]['id']\n",
    "        artist = artist_track['track']['artists'][0]['name']\n",
    "        track = artist_track['track']['name']\n",
    "        track_id = artist_track['track']['id']\n",
    "        album = artist_track['track']['album']['name']\n",
    "        duration=artist_track['track']['duration_ms']/60_000\n",
    "        \n",
    "        #obteniendo características de canciones de playlist\n",
    "        audio_features = requests.get(base+f\"audio-features/{track_id}\",\n",
    "                          headers = {'Authorization':f'''Bearer {auth['access_token']}''', 'Content-Type': 'application/json'})\n",
    "        tempo = audio_features.json()['tempo']\n",
    "        energy = audio_features.json()['energy']\n",
    "        danceability = audio_features.json()['danceability']\n",
    "        valence = audio_features.json()['valence']\n",
    "        key = audio_features.json()['key']\n",
    "        time_signature = audio_features.json()['time_signature']\n",
    "        acousticness = audio_features.json()['acousticness']\n",
    "        instrumentalness = audio_features.json()['instrumentalness']\n",
    "        mode = audio_features.json()['mode']\n",
    "    \n",
    "        lista_track = [track_id, artist, track, album, duration, tempo, energy, danceability, \n",
    "                 valence, key, time_signature, acousticness, instrumentalness, mode]\n",
    "        lista_df_tracks.append(lista_track)\n",
    "    \n",
    "    df_sherpa=pd.DataFrame(lista_df_tracks, columns=[\"track_id\", \"artist\", \"track\", \"album\", \"duration\",  \"tempo\", \"energy\", \"danceability\", \n",
    "             \"valence\", \"key\", \"time_signature\", \"acousticness\", \"instrumentalness\", \"mode\"])\n",
    "    return df_sherpa\n",
    "    \n",
    "    "
   ]
  },
  {
   "cell_type": "code",
   "execution_count": 10,
   "id": "f54b694a",
   "metadata": {
    "scrolled": true
   },
   "outputs": [],
   "source": [
    "#Aplicando la función para obtener variables de estudio de canciones de una playlist\n",
    "df_test=df_sherpa(\"6doANzWu81vKWBsIiMLrHj\")"
   ]
  },
  {
   "cell_type": "markdown",
   "id": "62efc9fa",
   "metadata": {},
   "source": [
    "## Discogs database"
   ]
  },
  {
   "cell_type": "code",
   "execution_count": 12,
   "id": "241acd22",
   "metadata": {},
   "outputs": [],
   "source": [
    "\n",
    "styles=[]\n",
    "\n",
    "for track_id in df_test['track_id']:\n",
    "    base = \"https://api.spotify.com/v1/\"\n",
    "    song = requests.get(base+f\"tracks/{track_id}\",\n",
    "                      headers = {'Authorization':f'''Bearer {auth['access_token']}''', 'Content-Type': 'application/json'})\n",
    "    \n",
    "    album=song.json()['album']['name']\n",
    "    \n",
    "     \n",
    "    results = d.search(f'{album}')\n",
    "    if len(results)==0:\n",
    "        styles.append(['Not data', album])\n",
    "    else:    \n",
    "        if str(results[0]).startswith('<Label') :\n",
    "            if str(results[1]).startswith('<Release') :\n",
    "                release=results[1].id\n",
    "                styles.append([d.release(release).styles, album])\n",
    "            elif str(results[1]).startswith('<Master'):\n",
    "                release=results[1].id\n",
    "                styles.append([d.master(release).styles, album])\n",
    "        else:\n",
    "            if str(results[0]).startswith('<Release') :\n",
    "                release=results[0].id\n",
    "                styles.append([d.release(release).styles, album])\n",
    "            elif str(results[0]).startswith('<Master'):\n",
    "                release=results[0].id\n",
    "                styles.append([d.master(release).styles, album])    "
   ]
  },
  {
   "cell_type": "code",
   "execution_count": 13,
   "id": "447bcea6",
   "metadata": {},
   "outputs": [],
   "source": [
    "styles=pd.DataFrame(styles, columns=['styles', 'album'])"
   ]
  },
  {
   "cell_type": "code",
   "execution_count": 15,
   "id": "dec6b0f7",
   "metadata": {
    "scrolled": false
   },
   "outputs": [],
   "source": [
    "df_test=pd.merge(df_test, styles, on='album', how='left')"
   ]
  },
  {
   "cell_type": "code",
   "execution_count": 26,
   "id": "aa3eb4ef",
   "metadata": {},
   "outputs": [],
   "source": [
    "dic={0:\"C\", 1:\"C#\", 2:\"D\", 3:\"D#\", 4:\"E\", 5:\"F\", 6:\"F#\", 7:\"G\", 8:\"G#\", 9:\"A\", 10:\"A#\", 11:\"B\"}\n",
    "df_test=df_test.replace({\"key\":dic})"
   ]
  },
  {
   "cell_type": "code",
   "execution_count": 27,
   "id": "8cd74120",
   "metadata": {},
   "outputs": [],
   "source": [
    "df_test.to_csv(\"/Users/santiago/ih-bootcamp/proyectos/sherpa/out/sherpa_test.csv\")"
   ]
  },
  {
   "cell_type": "code",
   "execution_count": 39,
   "id": "e911c74d",
   "metadata": {
    "scrolled": true
   },
   "outputs": [],
   "source": [
    "a=[len(cancion) for cancion in df_test.dropna()['styles']]"
   ]
  },
  {
   "cell_type": "code",
   "execution_count": 40,
   "id": "f1db2329",
   "metadata": {
    "scrolled": true
   },
   "outputs": [
    {
     "data": {
      "text/plain": [
       "8"
      ]
     },
     "execution_count": 40,
     "metadata": {},
     "output_type": "execute_result"
    }
   ],
   "source": [
    "max(a)"
   ]
  },
  {
   "cell_type": "code",
   "execution_count": 44,
   "id": "c0b617d7",
   "metadata": {},
   "outputs": [],
   "source": [
    "df_styles=df_test[['track', 'styles']]"
   ]
  },
  {
   "cell_type": "code",
   "execution_count": 76,
   "id": "56ab323b",
   "metadata": {},
   "outputs": [
    {
     "name": "stdout",
     "output_type": "stream",
     "text": [
      "'IDM', 'Experimental', 'Modern', 'Musique Concrète', 'Minimal', 'IDM', 'Hindustani', 'Fusion', 'Afrobeat', 'African', 'Experimental', 'House', 'Techno', 'IDM', 'Experimental', 'House', 'Deep House', 'Disco', 'Deep House', 'Techno', 'Minimal', 'Deep House', 'African', 'Experimental', 'Rockabilly', 'Deep House', 'Modern', 'Avantgarde', 'Experimental', 'Nu-Disco', 'Techno', 'House', 'Indie Rock', 'Deep House', 'Art Rock', 'Ambient', 'Experimental',   'Reggaeton',  'Experimental', 'Ambient', 'Leftfield',          'House',   'Techno', 'Dub Techno', 'House', 'Techno', 'Dub Techno', 'House', 'Techno', 'Dub Techno', 'House', 'Techno', 'Dub Techno', 'House', 'Cumbia', 'Disco', 'Psychedelic', 'Soukous', 'House', 'Highlife',   'Progressive House', 'Techno', 'Progressive Trance',     'Leftfield', 'Downtempo', 'Witch House', 'Dubstep', 'Modern Classical', 'Abstract', 'Ambient', 'Drone',  'Techno', 'Electro', 'Downtempo', 'Experimental', 'IDM', 'Techno', 'Tech House', 'Deep House', 'House', 'Techno', 'Minimal', 'Deep House', 'Leftfield', 'Deep House', 'Deep Techno', 'Future Jazz', 'Deep House', 'Deep Techno', 'Future Jazz', 'Deep House', 'Deep Techno', 'Future Jazz', 'Deep House', 'Deep Techno', 'Future Jazz', 'Deep House', 'Deep Techno', 'Future Jazz', 'Deep House', 'Deep Techno', 'Future Jazz', 'Deep House', 'Deep Techno', 'Future Jazz', 'Deep House', 'Deep Techno', 'Future Jazz', 'Deep House', 'Deep Techno', 'Future Jazz', 'Blues Rock', 'Krautrock', 'Dub', 'Downtempo', 'Future Jazz',  'Hard Rock', 'Prog Rock', 'Ambient', 'Downtempo', 'Ambient', 'Downtempo', 'IDM',   'Techno', 'Conscious',  'Neo Soul', 'Rhythm & Blues', 'Downtempo', 'Experimental', 'African', 'Tribal', 'House', 'Happy Hardcore', 'Downtempo',  'Minimal Techno', 'Deep House', 'Tech House', 'Abstract', 'Indian Classical',  'Modern', 'Downtempo', 'Deep House', 'African', 'House', 'Tribal House', 'African', 'House', 'Tribal House', 'African', 'House', 'Tribal House', 'African', 'House', 'Tribal House', 'Dub', 'Roots Reggae',  'Deep House', 'Downtempo', 'Experimental', 'Folk', 'Latin', 'Deep House', 'Downtempo', 'Deep House', 'Deep House', 'Tribal', 'Psychedelic Rock', 'Psychedelic Rock', 'Nu-Disco', 'Downtempo', 'Acid House', 'Deep House', 'Downtempo', 'Psychedelic Rock', 'Psychedelic Rock', 'Ambient', 'Post-Metal', 'Post-Hardcore', 'Sludge Metal',  'Ambient', 'New Age',  'House', 'Breaks', 'Techno', 'Techno', 'Ambient', 'Leftfield',  'Downtempo', 'Tech House', 'Minimal', 'Deep House', 'Downtempo', 'Acid',  'Experimental', 'Psychedelic', 'Dub', 'Leftfield', 'Bass Music', 'Ambient', 'Downtempo', 'Experimental', 'Dubstep', 'IDM', 'Electro', 'Synth-pop',\n"
     ]
    }
   ],
   "source": [
    "string=' '.join(map(str, df_styles['styles']))\n",
    "string=string.replace(\"]\", \",\").replace('[', \"\").replace('nan', \"\").replace('Not data', \"\")\n",
    "print(string)\n"
   ]
  }
 ],
 "metadata": {
  "kernelspec": {
   "display_name": "Python 3",
   "language": "python",
   "name": "python3"
  },
  "language_info": {
   "codemirror_mode": {
    "name": "ipython",
    "version": 3
   },
   "file_extension": ".py",
   "mimetype": "text/x-python",
   "name": "python",
   "nbconvert_exporter": "python",
   "pygments_lexer": "ipython3",
   "version": "3.8.8"
  }
 },
 "nbformat": 4,
 "nbformat_minor": 5
}
