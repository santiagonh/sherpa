{
 "cells": [
  {
   "cell_type": "markdown",
   "id": "1fcc6dc1",
   "metadata": {},
   "source": [
    "# Obteniendo datos de la API de Spotify"
   ]
  },
  {
   "cell_type": "code",
   "execution_count": 15,
   "id": "be257f65",
   "metadata": {},
   "outputs": [],
   "source": [
    "import base64\n",
    "import requests\n",
    "import pandas as pd\n",
    "import os"
   ]
  },
  {
   "cell_type": "markdown",
   "id": "2d2d67c1",
   "metadata": {},
   "source": [
    "## Autorización"
   ]
  },
  {
   "cell_type": "code",
   "execution_count": 25,
   "id": "71c36978",
   "metadata": {},
   "outputs": [],
   "source": [
    "client_id = os.environ['spotify_client_id']\n",
    "client_secret = os.environ['spotify_client_secret']"
   ]
  },
  {
   "cell_type": "code",
   "execution_count": 26,
   "id": "49d8f0ca",
   "metadata": {},
   "outputs": [],
   "source": [
    "# función de autenticación de spotify\n",
    "\n",
    "def spoty_aut (client_id, client_secret):\n",
    "    url = 'https://accounts.spotify.com/api/token'\n",
    "    credenciales = client_id + ':' + client_secret\n",
    "    authorization = \"Basic \" + base64.b64encode(credenciales.encode()).decode()\n",
    "    grant_type= 'client_credentials'\n",
    "    auth = requests.post(url, data={'grant_type':grant_type},\n",
    "              headers={'Authorization':authorization, 'Content-Type':'application/x-www-form-urlencoded'})\n",
    "    return auth.json()"
   ]
  },
  {
   "cell_type": "code",
   "execution_count": 27,
   "id": "6d32bef0",
   "metadata": {},
   "outputs": [],
   "source": [
    "auth=spoty_aut(client_id, client_secret)"
   ]
  },
  {
   "cell_type": "markdown",
   "id": "3aabb115",
   "metadata": {},
   "source": [
    "## Obteniendo playlist"
   ]
  },
  {
   "cell_type": "code",
   "execution_count": 28,
   "id": "72783394",
   "metadata": {},
   "outputs": [],
   "source": [
    "#función que crea df con variables necesarias para sherpa a partir de playlist_id\n",
    "\n",
    "def df_sherpa(playlist_id):\n",
    "    base = \"https://api.spotify.com/v1/\"\n",
    "    playlist = requests.get(base+f\"playlists/{playlist_id}/tracks\",\n",
    "                      headers = {'Authorization':f'''Bearer {auth['access_token']}''', 'Content-Type': 'application/json'})\n",
    "    \n",
    "    n_canciones=len(playlist.json()['items'])\n",
    "    \n",
    "    lista_df_tracks=[]\n",
    "    \n",
    "    for i in range(0,n_canciones):\n",
    "        \n",
    "        #obteniendo autor, nombre de canción y sus IDs de las canciones en la playlist\n",
    "        artist_track=playlist.json()['items'][i]\n",
    "        \n",
    "        artist_id= artist_track['track']['artists'][0]['id']\n",
    "        artist = artist_track['track']['artists'][0]['name']\n",
    "        track = artist_track['track']['name']\n",
    "        track_id = artist_track['track']['id']\n",
    "        \n",
    "        #obteniendo características de canciones de playlist\n",
    "        audio_features = requests.get(base+f\"audio-features/{track_id}\",\n",
    "                          headers = {'Authorization':f'''Bearer {auth['access_token']}''', 'Content-Type': 'application/json'})\n",
    "        tempo = audio_features.json()['tempo']\n",
    "        energy = audio_features.json()['energy']\n",
    "        danceability = audio_features.json()['danceability']\n",
    "        valence = audio_features.json()['valence']\n",
    "        key = audio_features.json()['key']\n",
    "        time_signature = audio_features.json()['time_signature']\n",
    "        acousticness = audio_features.json()['acousticness']\n",
    "        instrumentalness = audio_features.json()['instrumentalness']\n",
    "        mode = audio_features.json()['mode']\n",
    "    \n",
    "        lista_track = [track_id, artist, track, tempo, energy, danceability, \n",
    "                 valence, key, time_signature, acousticness, instrumentalness, mode]\n",
    "        lista_df_tracks.append(lista_track)\n",
    "    \n",
    "    df_sherpa=pd.DataFrame(lista_df_tracks, columns=[\"track_id\", \"artist\", \"track\",  \"tempo\", \"energy\", \"danceability\", \n",
    "             \"valence\", \"key\", \"time_signature\", \"acousticness\", \"instrumentalness\", \"mode\"])\n",
    "    return df_sherpa\n",
    "    \n",
    "    "
   ]
  },
  {
   "cell_type": "code",
   "execution_count": 29,
   "id": "f54b694a",
   "metadata": {
    "scrolled": true
   },
   "outputs": [],
   "source": [
    "#Aplicando la función para obtener variables de estudio de canciones de una playlist\n",
    "df_test=df_sherpa(\"6doANzWu81vKWBsIiMLrHj\")"
   ]
  },
  {
   "cell_type": "code",
   "execution_count": 31,
   "id": "57fde3dc",
   "metadata": {},
   "outputs": [],
   "source": [
    "# Exportando a CSV el df de la playlist\n",
    "df_test.to_csv(\"/Users/santiago/ih-bootcamp/proyectos/sherpa/out/sherpa_test.csv\")"
   ]
  }
 ],
 "metadata": {
  "kernelspec": {
   "display_name": "Python 3",
   "language": "python",
   "name": "python3"
  },
  "language_info": {
   "codemirror_mode": {
    "name": "ipython",
    "version": 3
   },
   "file_extension": ".py",
   "mimetype": "text/x-python",
   "name": "python",
   "nbconvert_exporter": "python",
   "pygments_lexer": "ipython3",
   "version": "3.8.8"
  }
 },
 "nbformat": 4,
 "nbformat_minor": 5
}
